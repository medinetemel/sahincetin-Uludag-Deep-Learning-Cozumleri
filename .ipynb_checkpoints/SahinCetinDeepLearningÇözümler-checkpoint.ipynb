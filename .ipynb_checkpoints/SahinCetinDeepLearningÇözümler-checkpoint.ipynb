{
 "cells": [
  {
   "cell_type": "code",
   "execution_count": null,
   "metadata": {},
   "outputs": [],
   "source": [
    "isim = input(\"Isminizi Girin= \")"
   ]
  },
  {
   "cell_type": "code",
   "execution_count": null,
   "metadata": {},
   "outputs": [],
   "source": [
    "print(\"Hosgeldin {}, öncelikle burada olduğun için çok mutluyuz, seni bu test ile karşılaştırdığımız için biz de üzgünüz fakat adil bir seçim yapmamız gerekiyor.\".format(isim))"
   ]
  },
  {
   "cell_type": "markdown",
   "metadata": {},
   "source": [
    "## Python"
   ]
  },
  {
   "cell_type": "code",
   "execution_count": 3,
   "metadata": {},
   "outputs": [],
   "source": [
    "#İleri kullanacağımız fonksiyonlar için bu hücreyi çalıştırın\n",
    "\n",
    "import numpy as np\n",
    "import math"
   ]
  },
  {
   "cell_type": "markdown",
   "metadata": {},
   "source": [
    "### Soru 0:\n",
    "\n",
    "Python Versiyonunuzu Yazdırın."
   ]
  },
  {
   "cell_type": "code",
   "execution_count": 10,
   "metadata": {},
   "outputs": [
    {
     "data": {
      "text/plain": [
       "'3.7.1'"
      ]
     },
     "execution_count": 10,
     "metadata": {},
     "output_type": "execute_result"
    }
   ],
   "source": [
    "#Kodun buraya gelecek\n",
    "import platform\n",
    "platform.python_version()"
   ]
  },
  {
   "cell_type": "markdown",
   "metadata": {},
   "source": [
    "### Soru 1:\n",
    "\n",
    "Telefon numaranızın son hanesindeki rakamdan başlayarak, son iki hanesindeki sayıya kadar devam eden bir liste oluşturun, bu listedeki sayıların ortalamasını ve toplamını yazdırın. (son iki hane sayısı 10'dan küçük olanlar için verilecek değer 70'dir.)"
   ]
  },
  {
   "cell_type": "code",
   "execution_count": 1,
   "metadata": {},
   "outputs": [
    {
     "name": "stdout",
     "output_type": "stream",
     "text": [
      "Telefon Numarınızı Girin= 5443850706\n"
     ]
    }
   ],
   "source": [
    "no = int(input(\"Telefon Numarınızı Girin= \"))"
   ]
  },
  {
   "cell_type": "markdown",
   "metadata": {},
   "source": [
    "### Cevap 1:"
   ]
  },
  {
   "cell_type": "code",
   "execution_count": 19,
   "metadata": {},
   "outputs": [
    {
     "name": "stdout",
     "output_type": "stream",
     "text": [
      "[5, 4, 4, 3, 8, 5, 0, 7, 0, 6]\n",
      "06\n",
      "[6, 7, 8, 9, 10, 11, 12, 13, 14, 15, 16, 17, 18, 19, 20, 21, 22, 23, 24, 25, 26, 27, 28, 29, 30, 31, 32, 33, 34, 35, 36, 37, 38, 39, 40, 41, 42, 43, 44, 45, 46, 47, 48, 49, 50, 51, 52, 53, 54, 55, 56, 57, 58, 59, 60, 61, 62, 63, 64, 65, 66, 67, 68, 69]\n",
      "Ortalama : 37.5\n",
      "Toplam : 2400\n"
     ]
    }
   ],
   "source": [
    "str_no = str(no)\n",
    "#İçerisine telefon no rakamları eklenmek üzere boş liste tanımlanır.\n",
    "list = []\n",
    "for i in str_no:\n",
    "    list.append(int(i))\n",
    "print(list)\n",
    "#listenin son iki hanesi alınarak son_iki_hane isimli değişkene eşitlenir\n",
    "son_iki_hane= str(list[-2])+str(list[-1])\n",
    "print(son_iki_hane)\n",
    "son_iki_hane_int = int(son_iki_hane)\n",
    "#son iki haneyi kontrol etmek üzere if-else yapısı kurulur.\n",
    "asil_liste = []\n",
    "if son_iki_hane_int<10:\n",
    "    #listenin son iki hanesi 10dan küçük olduğu için onun yerine 70 kullanılır.\n",
    "    for i in range(70):\n",
    "        asil_liste.append(i)     \n",
    "else:\n",
    "    for i in range(son_iki_hane_int):\n",
    "        asil_liste.append(i)\n",
    "del asil_liste[0:list[-1]]         \n",
    "#listenin son hali için liste bastırılır    \n",
    "print(asil_liste)\n",
    "#listedeki sayıları toplamak için toplam değeri tanımlanır.\n",
    "toplam = 0\n",
    "for i in asil_liste:\n",
    "    toplam +=i                   \n",
    "print(\"Ortalama : \" + str(toplam/len(asil_liste)))\n",
    "print(\"Toplam : \" + str(toplam))"
   ]
  },
  {
   "cell_type": "markdown",
   "metadata": {},
   "source": [
    "### Soru 2:"
   ]
  },
  {
   "cell_type": "markdown",
   "metadata": {},
   "source": [
    "Alt satırdaki yazi degiskeni olan hücreyi çalıştırın ve for döngüsüyle bu yazının her harfini bir listeye eleman olarak aktarın.\n",
    "\n",
    "Not: Boşluklar ve noktalama işaretlerini listeye almamalısınız."
   ]
  },
  {
   "cell_type": "code",
   "execution_count": 27,
   "metadata": {},
   "outputs": [],
   "source": [
    "yazi = \"uludag deeplearning teknik bir topluluktur.\""
   ]
  },
  {
   "cell_type": "markdown",
   "metadata": {},
   "source": [
    "### Cevap 2:"
   ]
  },
  {
   "cell_type": "code",
   "execution_count": 11,
   "metadata": {},
   "outputs": [
    {
     "ename": "NameError",
     "evalue": "name 'yazi' is not defined",
     "output_type": "error",
     "traceback": [
      "\u001b[1;31m---------------------------------------------------------------------------\u001b[0m",
      "\u001b[1;31mNameError\u001b[0m                                 Traceback (most recent call last)",
      "\u001b[1;32m<ipython-input-11-cde8a77f92ea>\u001b[0m in \u001b[0;36m<module>\u001b[1;34m\u001b[0m\n\u001b[0;32m      1\u001b[0m \u001b[0mlist_yazi\u001b[0m \u001b[1;33m=\u001b[0m \u001b[1;33m[\u001b[0m\u001b[1;33m]\u001b[0m\u001b[1;33m\u001b[0m\u001b[1;33m\u001b[0m\u001b[0m\n\u001b[1;32m----> 2\u001b[1;33m \u001b[1;32mfor\u001b[0m \u001b[0mi\u001b[0m \u001b[1;32min\u001b[0m \u001b[0myazi\u001b[0m\u001b[1;33m:\u001b[0m\u001b[1;33m\u001b[0m\u001b[1;33m\u001b[0m\u001b[0m\n\u001b[0m\u001b[0;32m      3\u001b[0m     \u001b[1;32mif\u001b[0m \u001b[0mi\u001b[0m \u001b[1;33m==\u001b[0m \u001b[1;33m(\u001b[0m\u001b[1;34m\" \"\u001b[0m\u001b[1;33m)\u001b[0m \u001b[1;32mor\u001b[0m \u001b[0mi\u001b[0m \u001b[1;33m==\u001b[0m \u001b[1;34m\".\"\u001b[0m \u001b[1;32mor\u001b[0m \u001b[0mi\u001b[0m \u001b[1;33m==\u001b[0m \u001b[1;34m\",\"\u001b[0m\u001b[1;33m:\u001b[0m\u001b[1;33m\u001b[0m\u001b[1;33m\u001b[0m\u001b[0m\n\u001b[0;32m      4\u001b[0m         \u001b[1;32mpass\u001b[0m\u001b[1;33m\u001b[0m\u001b[1;33m\u001b[0m\u001b[0m\n\u001b[0;32m      5\u001b[0m     \u001b[1;32melse\u001b[0m\u001b[1;33m:\u001b[0m\u001b[1;33m\u001b[0m\u001b[1;33m\u001b[0m\u001b[0m\n",
      "\u001b[1;31mNameError\u001b[0m: name 'yazi' is not defined"
     ]
    }
   ],
   "source": [
    "list_yazi = []\n",
    "for i in yazi:\n",
    "    if i == (\" \") or i == \".\" or i == \",\":\n",
    "        pass\n",
    "    else:\n",
    "        list_yazi.append(i)\n",
    "print(list_yazi)    "
   ]
  },
  {
   "cell_type": "markdown",
   "metadata": {},
   "source": [
    "### Soru 3:\n",
    "\n",
    "Sigmoid fonksiyonunu, sigmoid adını verdiğiniz fonksiyonla tanımlayınız."
   ]
  },
  {
   "cell_type": "markdown",
   "metadata": {},
   "source": [
    "![sigmoid](sigmoid.jpg)"
   ]
  },
  {
   "cell_type": "code",
   "execution_count": 12,
   "metadata": {},
   "outputs": [],
   "source": [
    "# Örnek: \n",
    "def fonk_ornek(girdi):\n",
    "    pass #Burası koduna dahil olmayacak.\n",
    "    sonuc = islem1*islem2/girdi\n",
    "    return sonuc"
   ]
  },
  {
   "cell_type": "markdown",
   "metadata": {},
   "source": [
    "### Cevap 3:"
   ]
  },
  {
   "cell_type": "code",
   "execution_count": 13,
   "metadata": {},
   "outputs": [
    {
     "data": {
      "text/plain": [
       "0.7310585786300049"
      ]
     },
     "execution_count": 13,
     "metadata": {},
     "output_type": "execute_result"
    }
   ],
   "source": [
    "def sigmoid(x):\n",
    "    sonuc = 1/(1+math.e**-x)\n",
    "    return sonuc\n",
    "sigmoid(1) #1 değeri için sigmoid fonksiyonu değeri"
   ]
  },
  {
   "cell_type": "markdown",
   "metadata": {},
   "source": [
    "## Numpy"
   ]
  },
  {
   "cell_type": "markdown",
   "metadata": {},
   "source": [
    "### Soru 1:\n",
    "\n",
    "5x5 boyutunda, sıfırlar, birler matrislerini oluşturun."
   ]
  },
  {
   "cell_type": "markdown",
   "metadata": {},
   "source": [
    "### Cevap 1:"
   ]
  },
  {
   "cell_type": "code",
   "execution_count": 14,
   "metadata": {},
   "outputs": [
    {
     "name": "stdout",
     "output_type": "stream",
     "text": [
      "[[0. 0. 0. 0. 0.]\n",
      " [0. 0. 0. 0. 0.]\n",
      " [0. 0. 0. 0. 0.]\n",
      " [0. 0. 0. 0. 0.]\n",
      " [0. 0. 0. 0. 0.]]\n",
      "[[1. 1. 1. 1. 1.]\n",
      " [1. 1. 1. 1. 1.]\n",
      " [1. 1. 1. 1. 1.]\n",
      " [1. 1. 1. 1. 1.]\n",
      " [1. 1. 1. 1. 1.]]\n"
     ]
    }
   ],
   "source": [
    "bese_bes_sifirlar_matrisi = np.zeros((5,5))\n",
    "print(bese_bes_sifirlar_matrisi)\n",
    "bese_bes_birler_matrisi = np.ones((5,5))\n",
    "print(bese_bes_birler_matrisi)"
   ]
  },
  {
   "cell_type": "markdown",
   "metadata": {},
   "source": [
    "### Soru 2:"
   ]
  },
  {
   "cell_type": "markdown",
   "metadata": {},
   "source": [
    "İki farklı 5x5 random sayılardan oluşan iki matris oluşturun. Bu matrisleri matris çarpımı yöntemiyle çarpın"
   ]
  },
  {
   "cell_type": "code",
   "execution_count": 15,
   "metadata": {},
   "outputs": [
    {
     "name": "stdout",
     "output_type": "stream",
     "text": [
      "1.Matris\n",
      "[[7 6 5 4 5]\n",
      " [1 4 3 7 3]\n",
      " [0 2 7 2 6]\n",
      " [0 7 2 0 9]\n",
      " [4 8 0 3 7]]\n",
      "2.Matris\n",
      "[[9 1 3 5 5]\n",
      " [7 7 4 8 6]\n",
      " [7 5 6 2 8]\n",
      " [6 4 9 5 7]\n",
      " [0 5 9 9 1]]\n",
      "Matrislerin Toplamı\n",
      "[[16  7  8  9 10]\n",
      " [ 8 11  7 15  9]\n",
      " [ 7  7 13  4 14]\n",
      " [ 6 11 11  5 16]\n",
      " [ 4 13  9 12  8]]\n"
     ]
    }
   ],
   "source": [
    "random_matrix_1 = np.random.randint(0,10,(5,5))\n",
    "random_matrix_2 = np.random.randint(0,10,(5,5))\n",
    "print(\"1.Matris\")\n",
    "print(random_matrix_1)\n",
    "print(\"2.Matris\")\n",
    "print(random_matrix_2)\n",
    "print(\"Matrislerin Toplamı\")\n",
    "print(random_matrix_1 + random_matrix_2)"
   ]
  },
  {
   "cell_type": "markdown",
   "metadata": {},
   "source": [
    "### Soru 3:\n",
    "\n",
    "100 Uzunluklu bir liste oluşturun, önce tek ve çift sayıları döngülerle tek ve çift adlı iki listeye ayırın, bu iki listeyi 5x10 boyutunda iki matris haline getirin."
   ]
  },
  {
   "cell_type": "markdown",
   "metadata": {},
   "source": [
    "### Cevap 3:"
   ]
  },
  {
   "cell_type": "code",
   "execution_count": 16,
   "metadata": {},
   "outputs": [
    {
     "name": "stdout",
     "output_type": "stream",
     "text": [
      "[0, 1, 2, 3, 4, 5, 6, 7, 8, 9, 10, 11, 12, 13, 14, 15, 16, 17, 18, 19, 20, 21, 22, 23, 24, 25, 26, 27, 28, 29, 30, 31, 32, 33, 34, 35, 36, 37, 38, 39, 40, 41, 42, 43, 44, 45, 46, 47, 48, 49, 50, 51, 52, 53, 54, 55, 56, 57, 58, 59, 60, 61, 62, 63, 64, 65, 66, 67, 68, 69, 70, 71, 72, 73, 74, 75, 76, 77, 78, 79, 80, 81, 82, 83, 84, 85, 86, 87, 88, 89, 90, 91, 92, 93, 94, 95, 96, 97, 98, 99]\n",
      "Tek Listesi\n",
      "[ 0  2  4  6  8 10 12 14 16 18 20 22 24 26 28 30 32 34 36 38 40 42 44 46\n",
      " 48 50 52 54 56 58 60 62 64 66 68 70 72 74 76 78 80 82 84 86 88 90 92 94\n",
      " 96 98]\n",
      "Çift Listesi\n",
      "[ 1  3  5  7  9 11 13 15 17 19 21 23 25 27 29 31 33 35 37 39 41 43 45 47\n",
      " 49 51 53 55 57 59 61 63 65 67 69 71 73 75 77 79 81 83 85 87 89 91 93 95\n",
      " 97 99]\n",
      "5x10 Boyutlarındaki Tek Listesi\n",
      "[[ 0  2  4  6  8 10 12 14 16 18]\n",
      " [20 22 24 26 28 30 32 34 36 38]\n",
      " [40 42 44 46 48 50 52 54 56 58]\n",
      " [60 62 64 66 68 70 72 74 76 78]\n",
      " [80 82 84 86 88 90 92 94 96 98]]\n",
      "5x10 Boyutlarındaki Çift Listesi\n",
      "[[ 1  3  5  7  9 11 13 15 17 19]\n",
      " [21 23 25 27 29 31 33 35 37 39]\n",
      " [41 43 45 47 49 51 53 55 57 59]\n",
      " [61 63 65 67 69 71 73 75 77 79]\n",
      " [81 83 85 87 89 91 93 95 97 99]]\n"
     ]
    }
   ],
   "source": [
    "yuzluk_liste = []\n",
    "for i in range(100): \n",
    "    yuzluk_liste.append(i)\n",
    "print(yuzluk_liste)\n",
    "tek_listesi = []\n",
    "cift_listesi = []\n",
    "for i in yuzluk_liste:\n",
    "    if i % 2 == 0:\n",
    "        tek_listesi.append(i)\n",
    "    else:\n",
    "        cift_listesi.append(i)\n",
    "np_tek_listesi = np.array(tek_listesi)\n",
    "np_cift_listesi = np.array(cift_listesi)\n",
    "print(\"Tek Listesi\")\n",
    "print(np_tek_listesi)\n",
    "print(\"Çift Listesi\")\n",
    "print(np_cift_listesi)\n",
    "print(\"5x10 Boyutlarındaki Tek Listesi\")\n",
    "print(np_tek_listesi.reshape(5,10))\n",
    "print(\"5x10 Boyutlarındaki Çift Listesi\")\n",
    "print(np_cift_listesi.reshape(5,10))"
   ]
  },
  {
   "cell_type": "markdown",
   "metadata": {},
   "source": [
    "### Soru 0: (Opsiyonel)"
   ]
  },
  {
   "cell_type": "markdown",
   "metadata": {},
   "source": [
    "Buradaki matematiksel ifadeleri python ile yazmanızı bekliyoruz. Aşağıda yazılan fonksiyonların her biri size ekstra bazı puanlar kazandıracaktır."
   ]
  },
  {
   "cell_type": "markdown",
   "metadata": {},
   "source": [
    "![1.](1.jpg \"1\")"
   ]
  },
  {
   "cell_type": "code",
   "execution_count": 17,
   "metadata": {},
   "outputs": [
    {
     "name": "stdout",
     "output_type": "stream",
     "text": [
      "[0.15442554 0.37366267 0.86115937 0.36218178 0.11075608 0.72652112\n",
      " 0.12826623 0.21798132 0.57794055 0.41452917 0.10129128 0.73056016\n",
      " 0.12719787 0.96832977 0.73369677]\n"
     ]
    },
    {
     "data": {
      "text/plain": [
       "0.08589347384191241"
      ]
     },
     "execution_count": 17,
     "metadata": {},
     "output_type": "execute_result"
    }
   ],
   "source": [
    "def fonksiyon1(boyut):\n",
    "    list = np.random.rand(boyut)\n",
    "    print(list)\n",
    "    np_list = np.array(list)\n",
    "    toplam = 0.0\n",
    "    for i in list:\n",
    "        toplam +=(np.mean(np_list)-i) ** 2\n",
    "    return (1/(np_list.size))*toplam\n",
    "fonksiyon1(15)    "
   ]
  },
  {
   "cell_type": "markdown",
   "metadata": {},
   "source": [
    "![3.](3.jpg \"3\")"
   ]
  },
  {
   "cell_type": "code",
   "execution_count": 18,
   "metadata": {
    "scrolled": true
   },
   "outputs": [
    {
     "name": "stdout",
     "output_type": "stream",
     "text": [
      "[0.02415464 0.9620611  0.28637207 0.10242    0.61963727 0.13663384\n",
      " 0.17983529 0.1404621  0.78043195 0.60943327 0.72647756 0.12062497\n",
      " 0.18929697 0.37107877 0.97217726 0.40046866 0.21324999 0.90068253\n",
      " 0.89879902 0.21261105 0.97724675 0.35772345 0.18291225 0.26647228\n",
      " 0.22834688 0.62627081 0.85764103 0.35986209 0.36633137 0.92841514]\n"
     ]
    },
    {
     "data": {
      "text/plain": [
       "0.300060563137245"
      ]
     },
     "execution_count": 18,
     "metadata": {},
     "output_type": "execute_result"
    }
   ],
   "source": [
    "\n",
    "def fonksiyon2(boyut):\n",
    "    list = np.random.rand(boyut)\n",
    "    print(list)\n",
    "    np_list = np.array(list)\n",
    "    toplam = 0.0\n",
    "    for i in list:\n",
    "        toplam += i * math.log10(np.mean(np_list)) + (1-i) * math.log10(1-np.mean(np_list))\n",
    "    return (-1/(np_list.size)) * toplam\n",
    "fonksiyon2(30) "
   ]
  },
  {
   "cell_type": "markdown",
   "metadata": {},
   "source": [
    "![2.](2.jpg \"2\")"
   ]
  },
  {
   "cell_type": "code",
   "execution_count": 19,
   "metadata": {},
   "outputs": [
    {
     "name": "stdout",
     "output_type": "stream",
     "text": [
      "[0.49288242 0.78787677 0.47043988 0.09526183 0.81164046]\n",
      "[0.92697893 0.88332637 0.99568331 0.13323895 0.65163438]\n",
      "[0.63033891 0.08854541 0.96424849 0.97273713 0.52109318]\n",
      "[array([0.49288242, 0.78787677, 0.47043988, 0.09526183, 0.81164046]), array([0.92697893, 0.88332637, 0.99568331, 0.13323895, 0.65163438]), array([0.63033891, 0.08854541, 0.96424849, 0.97273713, 0.52109318])]\n"
     ]
    },
    {
     "data": {
      "text/plain": [
       "0.28111019693886935"
      ]
     },
     "execution_count": 19,
     "metadata": {},
     "output_type": "execute_result"
    }
   ],
   "source": [
    "def fonksiyon3(boyut1,boyut2,boyut3):\n",
    "    list1 = np.random.rand(boyut1)\n",
    "    list2 = np.random.rand(boyut2)\n",
    "    list3 = np.random.rand(boyut3)\n",
    "    print(list1)\n",
    "    print(list2)\n",
    "    print(list3)\n",
    "    np_list1 = np.array(list1)\n",
    "    np_list2 = np.array(list2)\n",
    "    np_list3 = np.array(list3)\n",
    "    list_uzun = []\n",
    "    list_uzun.append(list1)\n",
    "    list_uzun.append(list2)\n",
    "    list_uzun.append(list3)\n",
    "    np_list_uzun = np.array(list_uzun)\n",
    "    print(list_uzun)\n",
    "    toplam = 0.0\n",
    "    for i in np_list_uzun:\n",
    "        for j in i:\n",
    "            toplam += j * math.log10(np.mean(i)) + (1-j) * math.log10(1-np.mean(i))\n",
    "    return (-1/(np_list_uzun.size)) * toplam\n",
    "fonksiyon3(5,5,5) "
   ]
  }
 ],
 "metadata": {
  "kernelspec": {
   "display_name": "Python 3",
   "language": "python",
   "name": "python3"
  },
  "language_info": {
   "codemirror_mode": {
    "name": "ipython",
    "version": 3
   },
   "file_extension": ".py",
   "mimetype": "text/x-python",
   "name": "python",
   "nbconvert_exporter": "python",
   "pygments_lexer": "ipython3",
   "version": "3.7.1"
  }
 },
 "nbformat": 4,
 "nbformat_minor": 2
}
