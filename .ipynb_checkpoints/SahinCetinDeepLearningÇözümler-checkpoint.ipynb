{
 "cells": [
  {
   "cell_type": "code",
   "execution_count": 1,
   "metadata": {},
   "outputs": [
    {
     "name": "stdout",
     "output_type": "stream",
     "text": [
      "Isminizi Girin= Mehmet Şahin Çetin\n"
     ]
    }
   ],
   "source": [
    "isim = input(\"Isminizi Girin= \")"
   ]
  },
  {
   "cell_type": "code",
   "execution_count": 2,
   "metadata": {},
   "outputs": [
    {
     "name": "stdout",
     "output_type": "stream",
     "text": [
      "Hosgeldin Mehmet Şahin Çetin, öncelikle burada olduğun için çok mutluyuz, seni bu test ile karşılaştırdığımız için biz de üzgünüz fakat adil bir seçim yapmamız gerekiyor.\n"
     ]
    }
   ],
   "source": [
    "print(\"Hosgeldin {}, öncelikle burada olduğun için çok mutluyuz, seni bu test ile karşılaştırdığımız için biz de üzgünüz fakat adil bir seçim yapmamız gerekiyor.\".format(isim))"
   ]
  },
  {
   "cell_type": "markdown",
   "metadata": {},
   "source": [
    "## Python"
   ]
  },
  {
   "cell_type": "code",
   "execution_count": 3,
   "metadata": {},
   "outputs": [],
   "source": [
    "#İleri kullanacağımız fonksiyonlar için bu hücreyi çalıştırın\n",
    "\n",
    "import numpy as np\n",
    "import math"
   ]
  },
  {
   "cell_type": "markdown",
   "metadata": {},
   "source": [
    "### Soru 0:\n",
    "\n",
    "Python Versiyonunuzu Yazdırın."
   ]
  },
  {
   "cell_type": "code",
   "execution_count": 4,
   "metadata": {},
   "outputs": [
    {
     "data": {
      "text/plain": [
       "'3.7.1'"
      ]
     },
     "execution_count": 4,
     "metadata": {},
     "output_type": "execute_result"
    }
   ],
   "source": [
    "#Kodun buraya gelecek\n",
    "import platform\n",
    "platform.python_version()"
   ]
  },
  {
   "cell_type": "markdown",
   "metadata": {},
   "source": [
    "### Soru 1:\n",
    "\n",
    "Telefon numaranızın son hanesindeki rakamdan başlayarak, son iki hanesindeki sayıya kadar devam eden bir liste oluşturun, bu listedeki sayıların ortalamasını ve toplamını yazdırın. (son iki hane sayısı 10'dan küçük olanlar için verilecek değer 70'dir.)"
   ]
  },
  {
   "cell_type": "code",
   "execution_count": 5,
   "metadata": {},
   "outputs": [
    {
     "name": "stdout",
     "output_type": "stream",
     "text": [
      "Telefon Numarınızı Girin= 5443850706\n"
     ]
    }
   ],
   "source": [
    "no = int(input(\"Telefon Numarınızı Girin= \"))"
   ]
  },
  {
   "cell_type": "markdown",
   "metadata": {},
   "source": [
    "### Cevap 1:"
   ]
  },
  {
   "cell_type": "code",
   "execution_count": 6,
   "metadata": {},
   "outputs": [
    {
     "name": "stdout",
     "output_type": "stream",
     "text": [
      "[5, 4, 4, 3, 8, 5, 0, 7, 0, 6]\n",
      "06\n",
      "[6, 7, 8, 9, 10, 11, 12, 13, 14, 15, 16, 17, 18, 19, 20, 21, 22, 23, 24, 25, 26, 27, 28, 29, 30, 31, 32, 33, 34, 35, 36, 37, 38, 39, 40, 41, 42, 43, 44, 45, 46, 47, 48, 49, 50, 51, 52, 53, 54, 55, 56, 57, 58, 59, 60, 61, 62, 63, 64, 65, 66, 67, 68, 69]\n",
      "Ortalama : 37.5\n",
      "Toplam : 2400\n"
     ]
    }
   ],
   "source": [
    "str_no = str(no)\n",
    "#İçerisine telefon no rakamları eklenmek üzere boş liste tanımlanır.\n",
    "list = []\n",
    "for i in str_no:\n",
    "    list.append(int(i))\n",
    "print(list)\n",
    "#listenin son iki hanesi alınarak son_iki_hane isimli değişkene eşitlenir\n",
    "son_iki_hane= str(list[-2])+str(list[-1])\n",
    "print(son_iki_hane)\n",
    "son_iki_hane_int = int(son_iki_hane)\n",
    "#son iki haneyi kontrol etmek üzere if-else yapısı kurulur.\n",
    "asil_liste = []\n",
    "if son_iki_hane_int<10:\n",
    "    #listenin son iki hanesi 10dan küçük olduğu için onun yerine 70 kullanılır.\n",
    "    for i in range(list[-1], 70):\n",
    "        asil_liste.append(i)     \n",
    "else:\n",
    "    for i in range(list[-1], son_iki_hane_int):\n",
    "        asil_liste.append(i)\n",
    "#listenin son hali için liste bastırılır    \n",
    "print(asil_liste)\n",
    "#listedeki sayıları toplamak için toplam değeri tanımlanır.\n",
    "toplam = 0\n",
    "for i in asil_liste:\n",
    "    toplam +=i                   \n",
    "print(\"Ortalama : \" + str(toplam/len(asil_liste)))\n",
    "print(\"Toplam : \" + str(toplam))"
   ]
  },
  {
   "cell_type": "markdown",
   "metadata": {},
   "source": [
    "### Soru 2:"
   ]
  },
  {
   "cell_type": "markdown",
   "metadata": {},
   "source": [
    "Alt satırdaki yazi degiskeni olan hücreyi çalıştırın ve for döngüsüyle bu yazının her harfini bir listeye eleman olarak aktarın.\n",
    "\n",
    "Not: Boşluklar ve noktalama işaretlerini listeye almamalısınız."
   ]
  },
  {
   "cell_type": "code",
   "execution_count": 7,
   "metadata": {},
   "outputs": [],
   "source": [
    "yazi = \"uludag deeplearning teknik bir topluluktur.\""
   ]
  },
  {
   "cell_type": "markdown",
   "metadata": {},
   "source": [
    "### Cevap 2:"
   ]
  },
  {
   "cell_type": "code",
   "execution_count": 8,
   "metadata": {},
   "outputs": [
    {
     "name": "stdout",
     "output_type": "stream",
     "text": [
      "['u', 'l', 'u', 'd', 'a', 'g', 'd', 'e', 'e', 'p', 'l', 'e', 'a', 'r', 'n', 'i', 'n', 'g', 't', 'e', 'k', 'n', 'i', 'k', 'b', 'i', 'r', 't', 'o', 'p', 'l', 'u', 'l', 'u', 'k', 't', 'u', 'r']\n"
     ]
    }
   ],
   "source": [
    "list_yazi = []\n",
    "for i in yazi:\n",
    "    if i == (\" \") or i == \".\" or i == \",\":\n",
    "        pass\n",
    "    else:\n",
    "        list_yazi.append(i)\n",
    "print(list_yazi)    "
   ]
  },
  {
   "cell_type": "markdown",
   "metadata": {},
   "source": [
    "### Soru 3:\n",
    "\n",
    "Sigmoid fonksiyonunu, sigmoid adını verdiğiniz fonksiyonla tanımlayınız."
   ]
  },
  {
   "cell_type": "markdown",
   "metadata": {},
   "source": [
    "![sigmoid](sigmoid.jpg)"
   ]
  },
  {
   "cell_type": "code",
   "execution_count": 9,
   "metadata": {},
   "outputs": [],
   "source": [
    "# Örnek: \n",
    "def fonk_ornek(girdi):\n",
    "    pass #Burası koduna dahil olmayacak.\n",
    "    sonuc = islem1*islem2/girdi\n",
    "    return sonuc"
   ]
  },
  {
   "cell_type": "markdown",
   "metadata": {},
   "source": [
    "### Cevap 3:"
   ]
  },
  {
   "cell_type": "code",
   "execution_count": 10,
   "metadata": {},
   "outputs": [
    {
     "data": {
      "text/plain": [
       "0.7310585786300049"
      ]
     },
     "execution_count": 10,
     "metadata": {},
     "output_type": "execute_result"
    }
   ],
   "source": [
    "def sigmoid(x):\n",
    "    sonuc = 1/(1+math.e**-x)\n",
    "    return sonuc\n",
    "sigmoid(1) #1 değeri için sigmoid fonksiyonu değeri"
   ]
  },
  {
   "cell_type": "markdown",
   "metadata": {},
   "source": [
    "## Numpy"
   ]
  },
  {
   "cell_type": "markdown",
   "metadata": {},
   "source": [
    "### Soru 1:\n",
    "\n",
    "5x5 boyutunda, sıfırlar, birler matrislerini oluşturun."
   ]
  },
  {
   "cell_type": "markdown",
   "metadata": {},
   "source": [
    "### Cevap 1:"
   ]
  },
  {
   "cell_type": "code",
   "execution_count": 11,
   "metadata": {},
   "outputs": [
    {
     "name": "stdout",
     "output_type": "stream",
     "text": [
      "[[0. 0. 0. 0. 0.]\n",
      " [0. 0. 0. 0. 0.]\n",
      " [0. 0. 0. 0. 0.]\n",
      " [0. 0. 0. 0. 0.]\n",
      " [0. 0. 0. 0. 0.]]\n",
      "[[1. 1. 1. 1. 1.]\n",
      " [1. 1. 1. 1. 1.]\n",
      " [1. 1. 1. 1. 1.]\n",
      " [1. 1. 1. 1. 1.]\n",
      " [1. 1. 1. 1. 1.]]\n"
     ]
    }
   ],
   "source": [
    "bese_bes_sifirlar_matrisi = np.zeros((5,5))\n",
    "print(bese_bes_sifirlar_matrisi)\n",
    "bese_bes_birler_matrisi = np.ones((5,5))\n",
    "print(bese_bes_birler_matrisi)"
   ]
  },
  {
   "cell_type": "markdown",
   "metadata": {},
   "source": [
    "### Soru 2:"
   ]
  },
  {
   "cell_type": "markdown",
   "metadata": {},
   "source": [
    "İki farklı 5x5 random sayılardan oluşan iki matris oluşturun. Bu matrisleri matris çarpımı yöntemiyle çarpın"
   ]
  },
  {
   "cell_type": "code",
   "execution_count": 12,
   "metadata": {},
   "outputs": [
    {
     "name": "stdout",
     "output_type": "stream",
     "text": [
      "1.Matris\n",
      "[[1 2 0 4 5]\n",
      " [2 7 6 9 1]\n",
      " [3 6 2 7 9]\n",
      " [2 9 1 8 2]\n",
      " [7 2 1 3 0]]\n",
      "2.Matris\n",
      "[[4 4 8 7 7]\n",
      " [8 6 0 1 0]\n",
      " [3 1 7 3 6]\n",
      " [9 6 6 5 5]\n",
      " [6 4 3 1 9]]\n",
      "Matrislerin Toplamı\n",
      "[[ 5  6  8 11 12]\n",
      " [10 13  6 10  1]\n",
      " [ 6  7  9 10 15]\n",
      " [11 15  7 13  7]\n",
      " [13  6  4  4  9]]\n"
     ]
    }
   ],
   "source": [
    "random_matrix_1 = np.random.randint(0,10,(5,5))\n",
    "random_matrix_2 = np.random.randint(0,10,(5,5))\n",
    "print(\"1.Matris\")\n",
    "print(random_matrix_1)\n",
    "print(\"2.Matris\")\n",
    "print(random_matrix_2)\n",
    "print(\"Matrislerin Toplamı\")\n",
    "print(random_matrix_1 + random_matrix_2)"
   ]
  },
  {
   "cell_type": "markdown",
   "metadata": {},
   "source": [
    "### Soru 3:\n",
    "\n",
    "100 Uzunluklu bir liste oluşturun, önce tek ve çift sayıları döngülerle tek ve çift adlı iki listeye ayırın, bu iki listeyi 5x10 boyutunda iki matris haline getirin."
   ]
  },
  {
   "cell_type": "markdown",
   "metadata": {},
   "source": [
    "### Cevap 3:"
   ]
  },
  {
   "cell_type": "code",
   "execution_count": 13,
   "metadata": {},
   "outputs": [
    {
     "name": "stdout",
     "output_type": "stream",
     "text": [
      "[0, 1, 2, 3, 4, 5, 6, 7, 8, 9, 10, 11, 12, 13, 14, 15, 16, 17, 18, 19, 20, 21, 22, 23, 24, 25, 26, 27, 28, 29, 30, 31, 32, 33, 34, 35, 36, 37, 38, 39, 40, 41, 42, 43, 44, 45, 46, 47, 48, 49, 50, 51, 52, 53, 54, 55, 56, 57, 58, 59, 60, 61, 62, 63, 64, 65, 66, 67, 68, 69, 70, 71, 72, 73, 74, 75, 76, 77, 78, 79, 80, 81, 82, 83, 84, 85, 86, 87, 88, 89, 90, 91, 92, 93, 94, 95, 96, 97, 98, 99]\n",
      "Tek Listesi\n",
      "[ 0  2  4  6  8 10 12 14 16 18 20 22 24 26 28 30 32 34 36 38 40 42 44 46\n",
      " 48 50 52 54 56 58 60 62 64 66 68 70 72 74 76 78 80 82 84 86 88 90 92 94\n",
      " 96 98]\n",
      "Çift Listesi\n",
      "[ 1  3  5  7  9 11 13 15 17 19 21 23 25 27 29 31 33 35 37 39 41 43 45 47\n",
      " 49 51 53 55 57 59 61 63 65 67 69 71 73 75 77 79 81 83 85 87 89 91 93 95\n",
      " 97 99]\n",
      "5x10 Boyutlarındaki Tek Listesi\n",
      "[[ 0  2  4  6  8 10 12 14 16 18]\n",
      " [20 22 24 26 28 30 32 34 36 38]\n",
      " [40 42 44 46 48 50 52 54 56 58]\n",
      " [60 62 64 66 68 70 72 74 76 78]\n",
      " [80 82 84 86 88 90 92 94 96 98]]\n",
      "5x10 Boyutlarındaki Çift Listesi\n",
      "[[ 1  3  5  7  9 11 13 15 17 19]\n",
      " [21 23 25 27 29 31 33 35 37 39]\n",
      " [41 43 45 47 49 51 53 55 57 59]\n",
      " [61 63 65 67 69 71 73 75 77 79]\n",
      " [81 83 85 87 89 91 93 95 97 99]]\n"
     ]
    }
   ],
   "source": [
    "yuzluk_liste = []\n",
    "for i in range(100): \n",
    "    yuzluk_liste.append(i)\n",
    "print(yuzluk_liste)\n",
    "tek_listesi = []\n",
    "cift_listesi = []\n",
    "for i in yuzluk_liste:\n",
    "    if i % 2 == 0:\n",
    "        tek_listesi.append(i)\n",
    "    else:\n",
    "        cift_listesi.append(i)\n",
    "np_tek_listesi = np.array(tek_listesi)\n",
    "np_cift_listesi = np.array(cift_listesi)\n",
    "print(\"Tek Listesi\")\n",
    "print(np_tek_listesi)\n",
    "print(\"Çift Listesi\")\n",
    "print(np_cift_listesi)\n",
    "print(\"5x10 Boyutlarındaki Tek Listesi\")\n",
    "print(np_tek_listesi.reshape(5,10))\n",
    "print(\"5x10 Boyutlarındaki Çift Listesi\")\n",
    "print(np_cift_listesi.reshape(5,10))"
   ]
  },
  {
   "cell_type": "markdown",
   "metadata": {},
   "source": [
    "### Soru 0: (Opsiyonel)"
   ]
  },
  {
   "cell_type": "markdown",
   "metadata": {},
   "source": [
    "Buradaki matematiksel ifadeleri python ile yazmanızı bekliyoruz. Aşağıda yazılan fonksiyonların her biri size ekstra bazı puanlar kazandıracaktır."
   ]
  },
  {
   "cell_type": "markdown",
   "metadata": {},
   "source": [
    "![1.](1.jpg \"1\")"
   ]
  },
  {
   "cell_type": "code",
   "execution_count": 14,
   "metadata": {},
   "outputs": [
    {
     "name": "stdout",
     "output_type": "stream",
     "text": [
      "[0.70803079 0.02896944 0.59617706 0.80703373 0.16108284 0.04399681\n",
      " 0.63114588 0.14065887 0.73239541 0.02595515 0.55374293 0.21036382\n",
      " 0.84300653 0.95706305 0.76241416]\n"
     ]
    },
    {
     "data": {
      "text/plain": [
       "0.10618676180864423"
      ]
     },
     "execution_count": 14,
     "metadata": {},
     "output_type": "execute_result"
    }
   ],
   "source": [
    "def fonksiyon1(boyut):\n",
    "    list = np.random.rand(boyut)\n",
    "    print(list)\n",
    "    np_list = np.array(list)\n",
    "    toplam = 0.0\n",
    "    for i in list:\n",
    "        toplam +=(np.mean(np_list)-i) ** 2\n",
    "    return (1/(np_list.size))*toplam\n",
    "fonksiyon1(15)    "
   ]
  },
  {
   "cell_type": "markdown",
   "metadata": {},
   "source": [
    "![3.](3.jpg \"3\")"
   ]
  },
  {
   "cell_type": "code",
   "execution_count": 15,
   "metadata": {
    "scrolled": true
   },
   "outputs": [
    {
     "name": "stdout",
     "output_type": "stream",
     "text": [
      "[0.09908679 0.06872327 0.18515478 0.92007957 0.5916747  0.74892592\n",
      " 0.32867752 0.79464161 0.2679624  0.04384511 0.17198736 0.18747915\n",
      " 0.83385954 0.27269933 0.8238189  0.94675255 0.38980445 0.76372378\n",
      " 0.18852236 0.48920713 0.02224705 0.32905769 0.08967388 0.0900248\n",
      " 0.00098896 0.72836521 0.21132341 0.42656543 0.4653001  0.64933527]\n"
     ]
    },
    {
     "data": {
      "text/plain": [
       "0.2930285860368213"
      ]
     },
     "execution_count": 15,
     "metadata": {},
     "output_type": "execute_result"
    }
   ],
   "source": [
    "def fonksiyon2(boyut):\n",
    "    list = np.random.rand(boyut)\n",
    "    print(list)\n",
    "    np_list = np.array(list)\n",
    "    toplam = 0.0\n",
    "    for i in list:\n",
    "        toplam += i * math.log10(np.mean(np_list)) + (1-i) * math.log10(1-np.mean(np_list))\n",
    "    return (-1/(np_list.size)) * toplam\n",
    "fonksiyon2(30) "
   ]
  },
  {
   "cell_type": "markdown",
   "metadata": {},
   "source": [
    "![2.](2.jpg \"2\")"
   ]
  },
  {
   "cell_type": "code",
   "execution_count": 16,
   "metadata": {},
   "outputs": [
    {
     "name": "stdout",
     "output_type": "stream",
     "text": [
      "[0.29792666 0.1363477  0.26799215 0.97114449 0.22733397]\n",
      "[0.2626814  0.0524471  0.36361136 0.33461671 0.29821823]\n",
      "[0.58430244 0.63367888 0.83614217 0.85854118 0.03133167]\n",
      "[array([0.29792666, 0.1363477 , 0.26799215, 0.97114449, 0.22733397]), array([0.2626814 , 0.0524471 , 0.36361136, 0.33461671, 0.29821823]), array([0.58430244, 0.63367888, 0.83614217, 0.85854118, 0.03133167])]\n"
     ]
    },
    {
     "data": {
      "text/plain": [
       "0.2774988291803046"
      ]
     },
     "execution_count": 16,
     "metadata": {},
     "output_type": "execute_result"
    }
   ],
   "source": [
    "def fonksiyon3(boyut1,boyut2,boyut3):\n",
    "    list1 = np.random.rand(boyut1)\n",
    "    list2 = np.random.rand(boyut2)\n",
    "    list3 = np.random.rand(boyut3)\n",
    "    print(list1)\n",
    "    print(list2)\n",
    "    print(list3)\n",
    "    np_list1 = np.array(list1)\n",
    "    np_list2 = np.array(list2)\n",
    "    np_list3 = np.array(list3)\n",
    "    list_uzun = []\n",
    "    list_uzun.append(list1)\n",
    "    list_uzun.append(list2)\n",
    "    list_uzun.append(list3)\n",
    "    np_list_uzun = np.array(list_uzun)\n",
    "    print(list_uzun)\n",
    "    toplam = 0.0\n",
    "    for i in np_list_uzun:\n",
    "        for j in i:\n",
    "            toplam += j * math.log10(np.mean(i)) + (1-j) * math.log10(1-np.mean(i))\n",
    "    return (-1/(np_list_uzun.size)) * toplam\n",
    "fonksiyon3(5,5,5) "
   ]
  }
 ],
 "metadata": {
  "kernelspec": {
   "display_name": "Python 3",
   "language": "python",
   "name": "python3"
  },
  "language_info": {
   "codemirror_mode": {
    "name": "ipython",
    "version": 3
   },
   "file_extension": ".py",
   "mimetype": "text/x-python",
   "name": "python",
   "nbconvert_exporter": "python",
   "pygments_lexer": "ipython3",
   "version": "3.7.1"
  }
 },
 "nbformat": 4,
 "nbformat_minor": 2
}
